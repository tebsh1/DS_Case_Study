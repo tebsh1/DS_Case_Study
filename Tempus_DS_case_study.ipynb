{
  "nbformat": 4,
  "nbformat_minor": 0,
  "metadata": {
    "colab": {
      "name": "Tempus_DS_case_study.ipynb",
      "provenance": [],
      "collapsed_sections": [],
      "mount_file_id": "1VFmjvvE2U3IwzTTGyty6teouwMzQZL6B",
      "authorship_tag": "ABX9TyMYlCszHMI4MWT2zOvRuAtE",
      "include_colab_link": true
    },
    "kernelspec": {
      "name": "python3",
      "display_name": "Python 3"
    }
  },
  "cells": [
    {
      "cell_type": "markdown",
      "metadata": {
        "id": "view-in-github",
        "colab_type": "text"
      },
      "source": [
        "<a href=\"https://colab.research.google.com/github/tebsh1/DS_Case_Study/blob/main/Tempus_DS_case_study.ipynb\" target=\"_parent\"><img src=\"https://colab.research.google.com/assets/colab-badge.svg\" alt=\"Open In Colab\"/></a>"
      ]
    },
    {
      "cell_type": "markdown",
      "metadata": {
        "id": "gO7F2l3n6UWm"
      },
      "source": [
        "# Overview\n",
        "\n",
        "\n",
        "*   Exploratory Data Analysis\n",
        "*   Preprocessing\n",
        "*   Feature Engineering\n",
        "* Modeling\n",
        "* Model Evaluation\n",
        "\n",
        "I will be using the data present in biomarkers.csv to extract the features to train a classifier that can predict the labels in targets.csv."
      ]
    },
    {
      "cell_type": "markdown",
      "metadata": {
        "id": "zus_8Nhw8Ocu"
      },
      "source": [
        "**Import the necessary libraries and load our datasets.**"
      ]
    },
    {
      "cell_type": "code",
      "metadata": {
        "id": "Wl7mpRoe_KTZ"
      },
      "source": [
        "import json\n",
        "import pandas as pd\n",
        "import numpy as np\n",
        "import matplotlib.pyplot as plt\n",
        "import seaborn as sns\n"
      ],
      "execution_count": 73,
      "outputs": []
    },
    {
      "cell_type": "code",
      "metadata": {
        "id": "k24yQgoBcv28"
      },
      "source": [
        ""
      ],
      "execution_count": null,
      "outputs": []
    },
    {
      "cell_type": "code",
      "metadata": {
        "colab": {
          "base_uri": "https://localhost:8080/"
        },
        "id": "PA1uhFlOvBRZ",
        "outputId": "447c3dbf-70eb-4c33-bfd1-e97ddd29dba8"
      },
      "source": [
        "from google.colab import drive\n",
        "drive.mount('/content/drive')"
      ],
      "execution_count": 2,
      "outputs": [
        {
          "output_type": "stream",
          "text": [
            "Drive already mounted at /content/drive; to attempt to forcibly remount, call drive.mount(\"/content/drive\", force_remount=True).\n"
          ],
          "name": "stdout"
        }
      ]
    },
    {
      "cell_type": "markdown",
      "metadata": {
        "id": "KlDhyyeaBlRQ"
      },
      "source": [
        "# Data Exploratory \n",
        "**Examine the dataset biomarkers.csv & patient_profiles.json**"
      ]
    },
    {
      "cell_type": "code",
      "metadata": {
        "colab": {
          "base_uri": "https://localhost:8080/",
          "height": 246
        },
        "id": "CacKnLJi_q81",
        "outputId": "811d96ac-a8e3-4d27-be2a-cd014756a031"
      },
      "source": [
        "# load and examine the data\n",
        "biomarkers_df = pd.read_csv('/content/drive/MyDrive/tempus/tempus_data_science_case_study/biomarkers.csv')\n",
        "biomarkers_df.head()"
      ],
      "execution_count": 2,
      "outputs": [
        {
          "output_type": "execute_result",
          "data": {
            "text/html": [
              "<div>\n",
              "<style scoped>\n",
              "    .dataframe tbody tr th:only-of-type {\n",
              "        vertical-align: middle;\n",
              "    }\n",
              "\n",
              "    .dataframe tbody tr th {\n",
              "        vertical-align: top;\n",
              "    }\n",
              "\n",
              "    .dataframe thead th {\n",
              "        text-align: right;\n",
              "    }\n",
              "</style>\n",
              "<table border=\"1\" class=\"dataframe\">\n",
              "  <thead>\n",
              "    <tr style=\"text-align: right;\">\n",
              "      <th></th>\n",
              "      <th>biomarker_id</th>\n",
              "      <th>BM00000</th>\n",
              "      <th>BM00001</th>\n",
              "      <th>BM00002</th>\n",
              "      <th>BM00003</th>\n",
              "      <th>BM00004</th>\n",
              "      <th>BM00005</th>\n",
              "      <th>BM00006</th>\n",
              "      <th>BM00007</th>\n",
              "      <th>BM00008</th>\n",
              "      <th>BM00009</th>\n",
              "      <th>BM00010</th>\n",
              "      <th>BM00011</th>\n",
              "      <th>BM00012</th>\n",
              "      <th>BM00013</th>\n",
              "      <th>BM00014</th>\n",
              "      <th>BM00015</th>\n",
              "      <th>BM00016</th>\n",
              "      <th>BM00017</th>\n",
              "      <th>BM00018</th>\n",
              "      <th>BM00019</th>\n",
              "      <th>BM00020</th>\n",
              "      <th>BM00021</th>\n",
              "      <th>BM00022</th>\n",
              "      <th>BM00023</th>\n",
              "      <th>BM00024</th>\n",
              "      <th>BM00025</th>\n",
              "      <th>BM00026</th>\n",
              "      <th>BM00027</th>\n",
              "      <th>BM00028</th>\n",
              "      <th>BM00029</th>\n",
              "      <th>BM00030</th>\n",
              "      <th>BM00031</th>\n",
              "      <th>BM00032</th>\n",
              "      <th>BM00033</th>\n",
              "      <th>BM00034</th>\n",
              "      <th>BM00035</th>\n",
              "      <th>BM00036</th>\n",
              "      <th>BM00037</th>\n",
              "      <th>BM00038</th>\n",
              "      <th>...</th>\n",
              "      <th>BM15117</th>\n",
              "      <th>BM15118</th>\n",
              "      <th>BM15119</th>\n",
              "      <th>BM15120</th>\n",
              "      <th>BM15121</th>\n",
              "      <th>BM15122</th>\n",
              "      <th>BM15123</th>\n",
              "      <th>BM15124</th>\n",
              "      <th>BM15125</th>\n",
              "      <th>BM15126</th>\n",
              "      <th>BM15127</th>\n",
              "      <th>BM15128</th>\n",
              "      <th>BM15129</th>\n",
              "      <th>BM15130</th>\n",
              "      <th>BM15131</th>\n",
              "      <th>BM15132</th>\n",
              "      <th>BM15133</th>\n",
              "      <th>BM15134</th>\n",
              "      <th>BM15135</th>\n",
              "      <th>BM15136</th>\n",
              "      <th>BM15137</th>\n",
              "      <th>BM15138</th>\n",
              "      <th>BM15139</th>\n",
              "      <th>BM15140</th>\n",
              "      <th>BM15141</th>\n",
              "      <th>BM15142</th>\n",
              "      <th>BM15143</th>\n",
              "      <th>BM15144</th>\n",
              "      <th>BM15145</th>\n",
              "      <th>BM15146</th>\n",
              "      <th>BM15147</th>\n",
              "      <th>BM15148</th>\n",
              "      <th>BM15149</th>\n",
              "      <th>BM15150</th>\n",
              "      <th>BM15151</th>\n",
              "      <th>BM15152</th>\n",
              "      <th>BM15153</th>\n",
              "      <th>BM15154</th>\n",
              "      <th>BM15155</th>\n",
              "      <th>BM15156</th>\n",
              "    </tr>\n",
              "  </thead>\n",
              "  <tbody>\n",
              "    <tr>\n",
              "      <th>0</th>\n",
              "      <td>100505de2</td>\n",
              "      <td>1</td>\n",
              "      <td>1</td>\n",
              "      <td>1</td>\n",
              "      <td>0</td>\n",
              "      <td>0</td>\n",
              "      <td>0</td>\n",
              "      <td>1</td>\n",
              "      <td>0</td>\n",
              "      <td>0</td>\n",
              "      <td>1</td>\n",
              "      <td>0</td>\n",
              "      <td>0</td>\n",
              "      <td>1</td>\n",
              "      <td>1</td>\n",
              "      <td>0</td>\n",
              "      <td>1</td>\n",
              "      <td>0</td>\n",
              "      <td>0</td>\n",
              "      <td>1</td>\n",
              "      <td>0</td>\n",
              "      <td>1</td>\n",
              "      <td>0</td>\n",
              "      <td>0</td>\n",
              "      <td>1</td>\n",
              "      <td>1</td>\n",
              "      <td>0</td>\n",
              "      <td>1</td>\n",
              "      <td>1</td>\n",
              "      <td>0</td>\n",
              "      <td>1</td>\n",
              "      <td>1</td>\n",
              "      <td>1</td>\n",
              "      <td>1</td>\n",
              "      <td>1</td>\n",
              "      <td>1</td>\n",
              "      <td>1</td>\n",
              "      <td>1</td>\n",
              "      <td>0</td>\n",
              "      <td>1</td>\n",
              "      <td>...</td>\n",
              "      <td>0</td>\n",
              "      <td>1</td>\n",
              "      <td>0</td>\n",
              "      <td>0</td>\n",
              "      <td>1</td>\n",
              "      <td>0</td>\n",
              "      <td>1</td>\n",
              "      <td>1</td>\n",
              "      <td>1</td>\n",
              "      <td>0</td>\n",
              "      <td>0</td>\n",
              "      <td>0</td>\n",
              "      <td>0</td>\n",
              "      <td>1</td>\n",
              "      <td>0</td>\n",
              "      <td>0</td>\n",
              "      <td>0</td>\n",
              "      <td>0</td>\n",
              "      <td>1</td>\n",
              "      <td>1</td>\n",
              "      <td>1</td>\n",
              "      <td>0</td>\n",
              "      <td>0</td>\n",
              "      <td>0</td>\n",
              "      <td>0</td>\n",
              "      <td>1</td>\n",
              "      <td>1</td>\n",
              "      <td>0</td>\n",
              "      <td>0</td>\n",
              "      <td>1</td>\n",
              "      <td>1</td>\n",
              "      <td>0</td>\n",
              "      <td>1</td>\n",
              "      <td>1</td>\n",
              "      <td>0</td>\n",
              "      <td>0</td>\n",
              "      <td>1</td>\n",
              "      <td>1.0</td>\n",
              "      <td>1</td>\n",
              "      <td>1</td>\n",
              "    </tr>\n",
              "    <tr>\n",
              "      <th>1</th>\n",
              "      <td>10075c5c2</td>\n",
              "      <td>1</td>\n",
              "      <td>1</td>\n",
              "      <td>1</td>\n",
              "      <td>0</td>\n",
              "      <td>0</td>\n",
              "      <td>0</td>\n",
              "      <td>1</td>\n",
              "      <td>0</td>\n",
              "      <td>1</td>\n",
              "      <td>0</td>\n",
              "      <td>0</td>\n",
              "      <td>1</td>\n",
              "      <td>1</td>\n",
              "      <td>1</td>\n",
              "      <td>0</td>\n",
              "      <td>1</td>\n",
              "      <td>0</td>\n",
              "      <td>0</td>\n",
              "      <td>0</td>\n",
              "      <td>0</td>\n",
              "      <td>1</td>\n",
              "      <td>0</td>\n",
              "      <td>0</td>\n",
              "      <td>0</td>\n",
              "      <td>1</td>\n",
              "      <td>1</td>\n",
              "      <td>0</td>\n",
              "      <td>1</td>\n",
              "      <td>0</td>\n",
              "      <td>1</td>\n",
              "      <td>0</td>\n",
              "      <td>1</td>\n",
              "      <td>0</td>\n",
              "      <td>1</td>\n",
              "      <td>0</td>\n",
              "      <td>1</td>\n",
              "      <td>1</td>\n",
              "      <td>0</td>\n",
              "      <td>0</td>\n",
              "      <td>...</td>\n",
              "      <td>0</td>\n",
              "      <td>1</td>\n",
              "      <td>0</td>\n",
              "      <td>0</td>\n",
              "      <td>1</td>\n",
              "      <td>1</td>\n",
              "      <td>0</td>\n",
              "      <td>1</td>\n",
              "      <td>1</td>\n",
              "      <td>0</td>\n",
              "      <td>0</td>\n",
              "      <td>1</td>\n",
              "      <td>1</td>\n",
              "      <td>1</td>\n",
              "      <td>0</td>\n",
              "      <td>1</td>\n",
              "      <td>1</td>\n",
              "      <td>0</td>\n",
              "      <td>1</td>\n",
              "      <td>1</td>\n",
              "      <td>0</td>\n",
              "      <td>0</td>\n",
              "      <td>1</td>\n",
              "      <td>1</td>\n",
              "      <td>0</td>\n",
              "      <td>0</td>\n",
              "      <td>1</td>\n",
              "      <td>0</td>\n",
              "      <td>0</td>\n",
              "      <td>1</td>\n",
              "      <td>1</td>\n",
              "      <td>0</td>\n",
              "      <td>0</td>\n",
              "      <td>0</td>\n",
              "      <td>0</td>\n",
              "      <td>0</td>\n",
              "      <td>1</td>\n",
              "      <td>NaN</td>\n",
              "      <td>1</td>\n",
              "      <td>1</td>\n",
              "    </tr>\n",
              "    <tr>\n",
              "      <th>2</th>\n",
              "      <td>10105cb22</td>\n",
              "      <td>1</td>\n",
              "      <td>1</td>\n",
              "      <td>1</td>\n",
              "      <td>0</td>\n",
              "      <td>0</td>\n",
              "      <td>0</td>\n",
              "      <td>1</td>\n",
              "      <td>0</td>\n",
              "      <td>1</td>\n",
              "      <td>1</td>\n",
              "      <td>0</td>\n",
              "      <td>0</td>\n",
              "      <td>1</td>\n",
              "      <td>1</td>\n",
              "      <td>1</td>\n",
              "      <td>1</td>\n",
              "      <td>0</td>\n",
              "      <td>0</td>\n",
              "      <td>0</td>\n",
              "      <td>0</td>\n",
              "      <td>0</td>\n",
              "      <td>0</td>\n",
              "      <td>1</td>\n",
              "      <td>0</td>\n",
              "      <td>1</td>\n",
              "      <td>1</td>\n",
              "      <td>0</td>\n",
              "      <td>1</td>\n",
              "      <td>0</td>\n",
              "      <td>1</td>\n",
              "      <td>1</td>\n",
              "      <td>0</td>\n",
              "      <td>1</td>\n",
              "      <td>1</td>\n",
              "      <td>0</td>\n",
              "      <td>1</td>\n",
              "      <td>1</td>\n",
              "      <td>0</td>\n",
              "      <td>1</td>\n",
              "      <td>...</td>\n",
              "      <td>0</td>\n",
              "      <td>1</td>\n",
              "      <td>0</td>\n",
              "      <td>0</td>\n",
              "      <td>0</td>\n",
              "      <td>0</td>\n",
              "      <td>0</td>\n",
              "      <td>1</td>\n",
              "      <td>0</td>\n",
              "      <td>0</td>\n",
              "      <td>0</td>\n",
              "      <td>1</td>\n",
              "      <td>1</td>\n",
              "      <td>1</td>\n",
              "      <td>0</td>\n",
              "      <td>0</td>\n",
              "      <td>0</td>\n",
              "      <td>0</td>\n",
              "      <td>1</td>\n",
              "      <td>1</td>\n",
              "      <td>0</td>\n",
              "      <td>1</td>\n",
              "      <td>0</td>\n",
              "      <td>0</td>\n",
              "      <td>1</td>\n",
              "      <td>1</td>\n",
              "      <td>0</td>\n",
              "      <td>0</td>\n",
              "      <td>0</td>\n",
              "      <td>1</td>\n",
              "      <td>1</td>\n",
              "      <td>0</td>\n",
              "      <td>0</td>\n",
              "      <td>0</td>\n",
              "      <td>0</td>\n",
              "      <td>0</td>\n",
              "      <td>1</td>\n",
              "      <td>NaN</td>\n",
              "      <td>1</td>\n",
              "      <td>1</td>\n",
              "    </tr>\n",
              "    <tr>\n",
              "      <th>3</th>\n",
              "      <td>101219d6e</td>\n",
              "      <td>1</td>\n",
              "      <td>0</td>\n",
              "      <td>1</td>\n",
              "      <td>0</td>\n",
              "      <td>0</td>\n",
              "      <td>0</td>\n",
              "      <td>0</td>\n",
              "      <td>0</td>\n",
              "      <td>1</td>\n",
              "      <td>0</td>\n",
              "      <td>0</td>\n",
              "      <td>0</td>\n",
              "      <td>1</td>\n",
              "      <td>1</td>\n",
              "      <td>0</td>\n",
              "      <td>1</td>\n",
              "      <td>0</td>\n",
              "      <td>1</td>\n",
              "      <td>1</td>\n",
              "      <td>0</td>\n",
              "      <td>0</td>\n",
              "      <td>0</td>\n",
              "      <td>1</td>\n",
              "      <td>1</td>\n",
              "      <td>1</td>\n",
              "      <td>1</td>\n",
              "      <td>0</td>\n",
              "      <td>1</td>\n",
              "      <td>0</td>\n",
              "      <td>1</td>\n",
              "      <td>1</td>\n",
              "      <td>1</td>\n",
              "      <td>1</td>\n",
              "      <td>1</td>\n",
              "      <td>1</td>\n",
              "      <td>1</td>\n",
              "      <td>1</td>\n",
              "      <td>0</td>\n",
              "      <td>1</td>\n",
              "      <td>...</td>\n",
              "      <td>1</td>\n",
              "      <td>1</td>\n",
              "      <td>1</td>\n",
              "      <td>1</td>\n",
              "      <td>1</td>\n",
              "      <td>1</td>\n",
              "      <td>0</td>\n",
              "      <td>1</td>\n",
              "      <td>1</td>\n",
              "      <td>0</td>\n",
              "      <td>0</td>\n",
              "      <td>1</td>\n",
              "      <td>0</td>\n",
              "      <td>1</td>\n",
              "      <td>0</td>\n",
              "      <td>1</td>\n",
              "      <td>0</td>\n",
              "      <td>0</td>\n",
              "      <td>0</td>\n",
              "      <td>1</td>\n",
              "      <td>1</td>\n",
              "      <td>0</td>\n",
              "      <td>0</td>\n",
              "      <td>1</td>\n",
              "      <td>0</td>\n",
              "      <td>1</td>\n",
              "      <td>1</td>\n",
              "      <td>0</td>\n",
              "      <td>0</td>\n",
              "      <td>0</td>\n",
              "      <td>1</td>\n",
              "      <td>0</td>\n",
              "      <td>0</td>\n",
              "      <td>0</td>\n",
              "      <td>0</td>\n",
              "      <td>0</td>\n",
              "      <td>1</td>\n",
              "      <td>1.0</td>\n",
              "      <td>1</td>\n",
              "      <td>1</td>\n",
              "    </tr>\n",
              "    <tr>\n",
              "      <th>4</th>\n",
              "      <td>10135ad45</td>\n",
              "      <td>1</td>\n",
              "      <td>0</td>\n",
              "      <td>1</td>\n",
              "      <td>0</td>\n",
              "      <td>1</td>\n",
              "      <td>0</td>\n",
              "      <td>1</td>\n",
              "      <td>0</td>\n",
              "      <td>1</td>\n",
              "      <td>1</td>\n",
              "      <td>0</td>\n",
              "      <td>0</td>\n",
              "      <td>1</td>\n",
              "      <td>1</td>\n",
              "      <td>1</td>\n",
              "      <td>1</td>\n",
              "      <td>0</td>\n",
              "      <td>1</td>\n",
              "      <td>1</td>\n",
              "      <td>0</td>\n",
              "      <td>1</td>\n",
              "      <td>0</td>\n",
              "      <td>0</td>\n",
              "      <td>1</td>\n",
              "      <td>1</td>\n",
              "      <td>1</td>\n",
              "      <td>1</td>\n",
              "      <td>1</td>\n",
              "      <td>0</td>\n",
              "      <td>1</td>\n",
              "      <td>1</td>\n",
              "      <td>1</td>\n",
              "      <td>0</td>\n",
              "      <td>1</td>\n",
              "      <td>1</td>\n",
              "      <td>1</td>\n",
              "      <td>1</td>\n",
              "      <td>0</td>\n",
              "      <td>1</td>\n",
              "      <td>...</td>\n",
              "      <td>1</td>\n",
              "      <td>1</td>\n",
              "      <td>1</td>\n",
              "      <td>0</td>\n",
              "      <td>0</td>\n",
              "      <td>0</td>\n",
              "      <td>0</td>\n",
              "      <td>1</td>\n",
              "      <td>1</td>\n",
              "      <td>0</td>\n",
              "      <td>1</td>\n",
              "      <td>1</td>\n",
              "      <td>1</td>\n",
              "      <td>1</td>\n",
              "      <td>0</td>\n",
              "      <td>1</td>\n",
              "      <td>0</td>\n",
              "      <td>0</td>\n",
              "      <td>0</td>\n",
              "      <td>0</td>\n",
              "      <td>1</td>\n",
              "      <td>0</td>\n",
              "      <td>0</td>\n",
              "      <td>0</td>\n",
              "      <td>0</td>\n",
              "      <td>1</td>\n",
              "      <td>0</td>\n",
              "      <td>1</td>\n",
              "      <td>0</td>\n",
              "      <td>0</td>\n",
              "      <td>1</td>\n",
              "      <td>0</td>\n",
              "      <td>1</td>\n",
              "      <td>0</td>\n",
              "      <td>0</td>\n",
              "      <td>0</td>\n",
              "      <td>1</td>\n",
              "      <td>1.0</td>\n",
              "      <td>1</td>\n",
              "      <td>1</td>\n",
              "    </tr>\n",
              "  </tbody>\n",
              "</table>\n",
              "<p>5 rows × 15158 columns</p>\n",
              "</div>"
            ],
            "text/plain": [
              "  biomarker_id  BM00000  BM00001  BM00002  ...  BM15153  BM15154  BM15155  BM15156\n",
              "0    100505de2        1        1        1  ...        1      1.0        1        1\n",
              "1    10075c5c2        1        1        1  ...        1      NaN        1        1\n",
              "2    10105cb22        1        1        1  ...        1      NaN        1        1\n",
              "3    101219d6e        1        0        1  ...        1      1.0        1        1\n",
              "4    10135ad45        1        0        1  ...        1      1.0        1        1\n",
              "\n",
              "[5 rows x 15158 columns]"
            ]
          },
          "metadata": {
            "tags": []
          },
          "execution_count": 2
        }
      ]
    },
    {
      "cell_type": "code",
      "metadata": {
        "colab": {
          "base_uri": "https://localhost:8080/",
          "height": 197
        },
        "id": "bgvLw3BEa-2H",
        "outputId": "1729b4b5-acd2-4e2e-e04a-d03037688aeb"
      },
      "source": [
        "targets_df = pd.read_csv(r\"/content/drive/MyDrive/tempus/tempus_data_science_case_study/targets.csv\")\n",
        "targets_df.head()"
      ],
      "execution_count": 4,
      "outputs": [
        {
          "output_type": "execute_result",
          "data": {
            "text/html": [
              "<div>\n",
              "<style scoped>\n",
              "    .dataframe tbody tr th:only-of-type {\n",
              "        vertical-align: middle;\n",
              "    }\n",
              "\n",
              "    .dataframe tbody tr th {\n",
              "        vertical-align: top;\n",
              "    }\n",
              "\n",
              "    .dataframe thead th {\n",
              "        text-align: right;\n",
              "    }\n",
              "</style>\n",
              "<table border=\"1\" class=\"dataframe\">\n",
              "  <thead>\n",
              "    <tr style=\"text-align: right;\">\n",
              "      <th></th>\n",
              "      <th>patient_id</th>\n",
              "      <th>biomarker_id</th>\n",
              "      <th>target_label</th>\n",
              "    </tr>\n",
              "  </thead>\n",
              "  <tbody>\n",
              "    <tr>\n",
              "      <th>0</th>\n",
              "      <td>1002df1d3</td>\n",
              "      <td>89c43bb4</td>\n",
              "      <td>0</td>\n",
              "    </tr>\n",
              "    <tr>\n",
              "      <th>1</th>\n",
              "      <td>1010441f</td>\n",
              "      <td>3ae31327</td>\n",
              "      <td>0</td>\n",
              "    </tr>\n",
              "    <tr>\n",
              "      <th>2</th>\n",
              "      <td>101eb6af1</td>\n",
              "      <td>1d8f7bab9</td>\n",
              "      <td>0</td>\n",
              "    </tr>\n",
              "    <tr>\n",
              "      <th>3</th>\n",
              "      <td>10204394e</td>\n",
              "      <td>129ee8c6c</td>\n",
              "      <td>0</td>\n",
              "    </tr>\n",
              "    <tr>\n",
              "      <th>4</th>\n",
              "      <td>1021d329b</td>\n",
              "      <td>1b44145bd</td>\n",
              "      <td>0</td>\n",
              "    </tr>\n",
              "  </tbody>\n",
              "</table>\n",
              "</div>"
            ],
            "text/plain": [
              "  patient_id biomarker_id  target_label\n",
              "0  1002df1d3     89c43bb4             0\n",
              "1   1010441f     3ae31327             0\n",
              "2  101eb6af1    1d8f7bab9             0\n",
              "3  10204394e    129ee8c6c             0\n",
              "4  1021d329b    1b44145bd             0"
            ]
          },
          "metadata": {
            "tags": []
          },
          "execution_count": 4
        }
      ]
    },
    {
      "cell_type": "markdown",
      "metadata": {
        "id": "9KjZCifP82d3"
      },
      "source": [
        "**patient_profiles.json is a nested josn file. We will extract the nested data later in the code.**"
      ]
    },
    {
      "cell_type": "code",
      "metadata": {
        "colab": {
          "base_uri": "https://localhost:8080/",
          "height": 197
        },
        "id": "qgiggtIoGCcZ",
        "outputId": "f58d0c8d-250a-463a-d7f0-a860dd23048d"
      },
      "source": [
        "patient_profiles_df = pd.read_json(r\"/content/drive/MyDrive/tempus/tempus_data_science_case_study/patient_profiles.json\")\n",
        "patient_profiles_df.head()"
      ],
      "execution_count": 7,
      "outputs": [
        {
          "output_type": "execute_result",
          "data": {
            "text/html": [
              "<div>\n",
              "<style scoped>\n",
              "    .dataframe tbody tr th:only-of-type {\n",
              "        vertical-align: middle;\n",
              "    }\n",
              "\n",
              "    .dataframe tbody tr th {\n",
              "        vertical-align: top;\n",
              "    }\n",
              "\n",
              "    .dataframe thead th {\n",
              "        text-align: right;\n",
              "    }\n",
              "</style>\n",
              "<table border=\"1\" class=\"dataframe\">\n",
              "  <thead>\n",
              "    <tr style=\"text-align: right;\">\n",
              "      <th></th>\n",
              "      <th>institution</th>\n",
              "      <th>cohort_id</th>\n",
              "      <th>patient_profiles</th>\n",
              "    </tr>\n",
              "  </thead>\n",
              "  <tbody>\n",
              "    <tr>\n",
              "      <th>0</th>\n",
              "      <td>Saint Penelope Medical Center</td>\n",
              "      <td>14562556998</td>\n",
              "      <td>[{'patient_id': '102bb8fae', 'demographics': {...</td>\n",
              "    </tr>\n",
              "    <tr>\n",
              "      <th>1</th>\n",
              "      <td>BioLab, Inc.</td>\n",
              "      <td>14562556998</td>\n",
              "      <td>[{'patient_id': '100688fb9', 'demographics': {...</td>\n",
              "    </tr>\n",
              "    <tr>\n",
              "      <th>2</th>\n",
              "      <td>University Hospital System</td>\n",
              "      <td>14562556998</td>\n",
              "      <td>[{'patient_id': '1002df1d3', 'demographics': {...</td>\n",
              "    </tr>\n",
              "    <tr>\n",
              "      <th>3</th>\n",
              "      <td>Goodfellow Research Institute</td>\n",
              "      <td>14562556998</td>\n",
              "      <td>[{'patient_id': '104fc5e3c', 'demographics': {...</td>\n",
              "    </tr>\n",
              "    <tr>\n",
              "      <th>4</th>\n",
              "      <td>Montague Hospital</td>\n",
              "      <td>14562556998</td>\n",
              "      <td>[{'patient_id': '1010441f', 'demographics': {'...</td>\n",
              "    </tr>\n",
              "  </tbody>\n",
              "</table>\n",
              "</div>"
            ],
            "text/plain": [
              "                     institution  ...                                   patient_profiles\n",
              "0  Saint Penelope Medical Center  ...  [{'patient_id': '102bb8fae', 'demographics': {...\n",
              "1                   BioLab, Inc.  ...  [{'patient_id': '100688fb9', 'demographics': {...\n",
              "2     University Hospital System  ...  [{'patient_id': '1002df1d3', 'demographics': {...\n",
              "3  Goodfellow Research Institute  ...  [{'patient_id': '104fc5e3c', 'demographics': {...\n",
              "4              Montague Hospital  ...  [{'patient_id': '1010441f', 'demographics': {'...\n",
              "\n",
              "[5 rows x 3 columns]"
            ]
          },
          "metadata": {
            "tags": []
          },
          "execution_count": 7
        }
      ]
    },
    {
      "cell_type": "markdown",
      "metadata": {
        "id": "YSkfqBf_9hWg"
      },
      "source": [
        "**Check the dimensionality shape of the data frames**"
      ]
    },
    {
      "cell_type": "code",
      "metadata": {
        "colab": {
          "base_uri": "https://localhost:8080/"
        },
        "id": "D8nlxYHiBQiM",
        "outputId": "04d8d901-1a45-45e1-d7a3-9e5bbbdf61ac"
      },
      "source": [
        "print(biomarkers_df.shape)\n",
        "print(patient_profiles_df.shape)\n",
        "print(targets_df.shape)\n"
      ],
      "execution_count": 8,
      "outputs": [
        {
          "output_type": "stream",
          "text": [
            "(1960, 15158)\n",
            "(7, 3)\n",
            "(1734, 3)\n"
          ],
          "name": "stdout"
        }
      ]
    },
    {
      "cell_type": "markdown",
      "metadata": {
        "id": "zFWF9y1K92eY"
      },
      "source": [
        "# Preprocessing\n",
        "**Check for missing data in each of the supplied data sets**"
      ]
    },
    {
      "cell_type": "code",
      "metadata": {
        "colab": {
          "base_uri": "https://localhost:8080/"
        },
        "id": "rs7ldysSCFvG",
        "outputId": "78c04051-857d-4778-d638-af34d065e448"
      },
      "source": [
        "print('biomarkers')\n",
        "print(biomarkers_df.isnull().any())\n",
        "print(biomarkers_df.isnull().sum())\n",
        "print(\"\\n\")\n",
        "\n",
        "print('targets')\n",
        "print(targets_df.isnull().any())\n",
        "print(targets_df.isnull().sum())\n",
        "print(\"\\n\")"
      ],
      "execution_count": 9,
      "outputs": [
        {
          "output_type": "stream",
          "text": [
            "biomarkers\n",
            "biomarker_id    False\n",
            "BM00000         False\n",
            "BM00001         False\n",
            "BM00002         False\n",
            "BM00003         False\n",
            "                ...  \n",
            "BM15152         False\n",
            "BM15153         False\n",
            "BM15154          True\n",
            "BM15155         False\n",
            "BM15156         False\n",
            "Length: 15158, dtype: bool\n",
            "biomarker_id      0\n",
            "BM00000           0\n",
            "BM00001           0\n",
            "BM00002           0\n",
            "BM00003           0\n",
            "               ... \n",
            "BM15152           0\n",
            "BM15153           0\n",
            "BM15154         772\n",
            "BM15155           0\n",
            "BM15156           0\n",
            "Length: 15158, dtype: int64\n",
            "\n",
            "\n",
            "targets\n",
            "patient_id      False\n",
            "biomarker_id    False\n",
            "target_label    False\n",
            "dtype: bool\n",
            "patient_id      0\n",
            "biomarker_id    0\n",
            "target_label    0\n",
            "dtype: int64\n",
            "\n",
            "\n"
          ],
          "name": "stdout"
        }
      ]
    },
    {
      "cell_type": "code",
      "metadata": {
        "colab": {
          "base_uri": "https://localhost:8080/"
        },
        "id": "dJRGZt9pHekB",
        "outputId": "a87b05fd-318c-4064-e093-86c8d828ff7a"
      },
      "source": [
        "print(biomarkers_df['BM15154'].isnull().sum())"
      ],
      "execution_count": 10,
      "outputs": [
        {
          "output_type": "stream",
          "text": [
            "772\n"
          ],
          "name": "stdout"
        }
      ]
    },
    {
      "cell_type": "markdown",
      "metadata": {
        "id": "A_gKI2ju-4Ln"
      },
      "source": [
        "**Note:** from the information above, we notice that there are 772 missing or null values under the biomarkers \"BM15154\" where these null vlaues should either be removed or replaced with Mean/Median.\n"
      ]
    },
    {
      "cell_type": "markdown",
      "metadata": {
        "id": "BNySuNsDGHNH"
      },
      "source": [
        "Since the NaN missing data is about 39% of our relatively smale dataset, then we may try to replace it the Median value."
      ]
    },
    {
      "cell_type": "markdown",
      "metadata": {
        "id": "jaJgcfrYGryL"
      },
      "source": [
        ""
      ]
    },
    {
      "cell_type": "code",
      "metadata": {
        "id": "GwQDD551HPEj"
      },
      "source": [
        "biomarkers_df['BM15154'] = biomarkers_df['BM15154'].replace(np.NaN, biomarkers_df['BM15154'].median())\n"
      ],
      "execution_count": 11,
      "outputs": []
    },
    {
      "cell_type": "markdown",
      "metadata": {
        "id": "9MWfeQ1_I_aa"
      },
      "source": [
        "check again for null values after applying the median value"
      ]
    },
    {
      "cell_type": "code",
      "metadata": {
        "colab": {
          "base_uri": "https://localhost:8080/"
        },
        "id": "99f1oc5-IrBb",
        "outputId": "007a2686-3386-4581-a622-4db2372985d3"
      },
      "source": [
        "print(biomarkers_df['BM15154'].isnull().sum())"
      ],
      "execution_count": 12,
      "outputs": [
        {
          "output_type": "stream",
          "text": [
            "0\n"
          ],
          "name": "stdout"
        }
      ]
    },
    {
      "cell_type": "markdown",
      "metadata": {
        "id": "IULsoMWiLl-b"
      },
      "source": [
        "**Check for target class inbalnce**\n",
        "From the figure we can clearly see that there is a big difference between the dataset target labels where 1353 No-Disease and 381 disease."
      ]
    },
    {
      "cell_type": "code",
      "metadata": {
        "colab": {
          "base_uri": "https://localhost:8080/",
          "height": 336
        },
        "id": "YKpnTcq3JKpK",
        "outputId": "bc75b5a2-d345-45b1-a2a1-37bf4bbe457d"
      },
      "source": [
        "# visualize the target variable\n",
        "g = sns.countplot(targets_df['target_label'])\n",
        "g.set_xticklabels(['No-Disease','Disease'])\n",
        "plt.show()"
      ],
      "execution_count": 13,
      "outputs": [
        {
          "output_type": "stream",
          "text": [
            "/usr/local/lib/python3.7/dist-packages/seaborn/_decorators.py:43: FutureWarning: Pass the following variable as a keyword arg: x. From version 0.12, the only valid positional argument will be `data`, and passing other arguments without an explicit keyword will result in an error or misinterpretation.\n",
            "  FutureWarning\n"
          ],
          "name": "stderr"
        },
        {
          "output_type": "display_data",
          "data": {
            "image/png": "[encoded data removed]",
            "text/plain": [
              "<Figure size 432x288 with 1 Axes>"
            ]
          },
          "metadata": {
            "tags": [],
            "needs_background": "light"
          }
        }
      ]
    },
    {
      "cell_type": "markdown",
      "metadata": {
        "id": "5_UzhjKYTyny"
      },
      "source": [
        "**Synthetic Minority Oversampling Technique (SMOTE)**\n",
        "\n",
        "Due to the limited dataset, we decicded to go with oversampling technique to overcome data inbalacing.\n",
        "\n",
        "This technique (SMOTE) generates synthetic data for the minority class by randomly picking a point from the minority class and computing the k-nearest neighbors for this point.\n",
        "\n"
      ]
    },
    {
      "cell_type": "markdown",
      "metadata": {
        "id": "LZMbV3KRVVDA"
      },
      "source": [
        "**But first, let's join the targets_df with biomarkers_df**"
      ]
    },
    {
      "cell_type": "code",
      "metadata": {
        "colab": {
          "base_uri": "https://localhost:8080/",
          "height": 186
        },
        "id": "_HO8AlDEYTJ4",
        "outputId": "ad5220c1-d6da-451e-d4bc-226dc2afc0ba"
      },
      "source": [
        "tr = targets_df\n",
        "biomarker_patient_target = tr.merge(biomarkers_df, how='left', on=\"biomarker_id\")\n",
        "biomarker_patient_target.head(3)\n"
      ],
      "execution_count": 14,
      "outputs": [
        {
          "output_type": "execute_result",
          "data": {
            "text/html": [
              "<div>\n",
              "<style scoped>\n",
              "    .dataframe tbody tr th:only-of-type {\n",
              "        vertical-align: middle;\n",
              "    }\n",
              "\n",
              "    .dataframe tbody tr th {\n",
              "        vertical-align: top;\n",
              "    }\n",
              "\n",
              "    .dataframe thead th {\n",
              "        text-align: right;\n",
              "    }\n",
              "</style>\n",
              "<table border=\"1\" class=\"dataframe\">\n",
              "  <thead>\n",
              "    <tr style=\"text-align: right;\">\n",
              "      <th></th>\n",
              "      <th>patient_id</th>\n",
              "      <th>biomarker_id</th>\n",
              "      <th>target_label</th>\n",
              "      <th>BM00000</th>\n",
              "      <th>BM00001</th>\n",
              "      <th>BM00002</th>\n",
              "      <th>BM00003</th>\n",
              "      <th>BM00004</th>\n",
              "      <th>BM00005</th>\n",
              "      <th>BM00006</th>\n",
              "      <th>BM00007</th>\n",
              "      <th>BM00008</th>\n",
              "      <th>BM00009</th>\n",
              "      <th>BM00010</th>\n",
              "      <th>BM00011</th>\n",
              "      <th>BM00012</th>\n",
              "      <th>BM00013</th>\n",
              "      <th>BM00014</th>\n",
              "      <th>BM00015</th>\n",
              "      <th>BM00016</th>\n",
              "      <th>BM00017</th>\n",
              "      <th>BM00018</th>\n",
              "      <th>BM00019</th>\n",
              "      <th>BM00020</th>\n",
              "      <th>BM00021</th>\n",
              "      <th>BM00022</th>\n",
              "      <th>BM00023</th>\n",
              "      <th>BM00024</th>\n",
              "      <th>BM00025</th>\n",
              "      <th>BM00026</th>\n",
              "      <th>BM00027</th>\n",
              "      <th>BM00028</th>\n",
              "      <th>BM00029</th>\n",
              "      <th>BM00030</th>\n",
              "      <th>BM00031</th>\n",
              "      <th>BM00032</th>\n",
              "      <th>BM00033</th>\n",
              "      <th>BM00034</th>\n",
              "      <th>BM00035</th>\n",
              "      <th>BM00036</th>\n",
              "      <th>...</th>\n",
              "      <th>BM15117</th>\n",
              "      <th>BM15118</th>\n",
              "      <th>BM15119</th>\n",
              "      <th>BM15120</th>\n",
              "      <th>BM15121</th>\n",
              "      <th>BM15122</th>\n",
              "      <th>BM15123</th>\n",
              "      <th>BM15124</th>\n",
              "      <th>BM15125</th>\n",
              "      <th>BM15126</th>\n",
              "      <th>BM15127</th>\n",
              "      <th>BM15128</th>\n",
              "      <th>BM15129</th>\n",
              "      <th>BM15130</th>\n",
              "      <th>BM15131</th>\n",
              "      <th>BM15132</th>\n",
              "      <th>BM15133</th>\n",
              "      <th>BM15134</th>\n",
              "      <th>BM15135</th>\n",
              "      <th>BM15136</th>\n",
              "      <th>BM15137</th>\n",
              "      <th>BM15138</th>\n",
              "      <th>BM15139</th>\n",
              "      <th>BM15140</th>\n",
              "      <th>BM15141</th>\n",
              "      <th>BM15142</th>\n",
              "      <th>BM15143</th>\n",
              "      <th>BM15144</th>\n",
              "      <th>BM15145</th>\n",
              "      <th>BM15146</th>\n",
              "      <th>BM15147</th>\n",
              "      <th>BM15148</th>\n",
              "      <th>BM15149</th>\n",
              "      <th>BM15150</th>\n",
              "      <th>BM15151</th>\n",
              "      <th>BM15152</th>\n",
              "      <th>BM15153</th>\n",
              "      <th>BM15154</th>\n",
              "      <th>BM15155</th>\n",
              "      <th>BM15156</th>\n",
              "    </tr>\n",
              "  </thead>\n",
              "  <tbody>\n",
              "    <tr>\n",
              "      <th>0</th>\n",
              "      <td>1002df1d3</td>\n",
              "      <td>89c43bb4</td>\n",
              "      <td>0</td>\n",
              "      <td>1</td>\n",
              "      <td>1</td>\n",
              "      <td>1</td>\n",
              "      <td>1</td>\n",
              "      <td>0</td>\n",
              "      <td>0</td>\n",
              "      <td>0</td>\n",
              "      <td>0</td>\n",
              "      <td>1</td>\n",
              "      <td>0</td>\n",
              "      <td>0</td>\n",
              "      <td>1</td>\n",
              "      <td>1</td>\n",
              "      <td>1</td>\n",
              "      <td>1</td>\n",
              "      <td>1</td>\n",
              "      <td>0</td>\n",
              "      <td>0</td>\n",
              "      <td>1</td>\n",
              "      <td>0</td>\n",
              "      <td>0</td>\n",
              "      <td>0</td>\n",
              "      <td>1</td>\n",
              "      <td>1</td>\n",
              "      <td>1</td>\n",
              "      <td>1</td>\n",
              "      <td>0</td>\n",
              "      <td>1</td>\n",
              "      <td>0</td>\n",
              "      <td>0</td>\n",
              "      <td>1</td>\n",
              "      <td>0</td>\n",
              "      <td>0</td>\n",
              "      <td>1</td>\n",
              "      <td>1</td>\n",
              "      <td>1</td>\n",
              "      <td>1</td>\n",
              "      <td>...</td>\n",
              "      <td>0</td>\n",
              "      <td>1</td>\n",
              "      <td>0</td>\n",
              "      <td>1</td>\n",
              "      <td>0</td>\n",
              "      <td>0</td>\n",
              "      <td>0</td>\n",
              "      <td>1</td>\n",
              "      <td>0</td>\n",
              "      <td>0</td>\n",
              "      <td>0</td>\n",
              "      <td>1</td>\n",
              "      <td>0</td>\n",
              "      <td>1</td>\n",
              "      <td>0</td>\n",
              "      <td>0</td>\n",
              "      <td>1</td>\n",
              "      <td>0</td>\n",
              "      <td>0</td>\n",
              "      <td>1</td>\n",
              "      <td>1</td>\n",
              "      <td>0</td>\n",
              "      <td>0</td>\n",
              "      <td>0</td>\n",
              "      <td>0</td>\n",
              "      <td>1</td>\n",
              "      <td>1</td>\n",
              "      <td>0</td>\n",
              "      <td>0</td>\n",
              "      <td>1</td>\n",
              "      <td>1</td>\n",
              "      <td>0</td>\n",
              "      <td>0</td>\n",
              "      <td>1</td>\n",
              "      <td>1</td>\n",
              "      <td>0</td>\n",
              "      <td>1</td>\n",
              "      <td>1.0</td>\n",
              "      <td>1</td>\n",
              "      <td>1</td>\n",
              "    </tr>\n",
              "    <tr>\n",
              "      <th>1</th>\n",
              "      <td>1010441f</td>\n",
              "      <td>3ae31327</td>\n",
              "      <td>0</td>\n",
              "      <td>0</td>\n",
              "      <td>1</td>\n",
              "      <td>1</td>\n",
              "      <td>0</td>\n",
              "      <td>0</td>\n",
              "      <td>0</td>\n",
              "      <td>0</td>\n",
              "      <td>0</td>\n",
              "      <td>1</td>\n",
              "      <td>0</td>\n",
              "      <td>0</td>\n",
              "      <td>1</td>\n",
              "      <td>1</td>\n",
              "      <td>1</td>\n",
              "      <td>0</td>\n",
              "      <td>1</td>\n",
              "      <td>0</td>\n",
              "      <td>0</td>\n",
              "      <td>0</td>\n",
              "      <td>0</td>\n",
              "      <td>1</td>\n",
              "      <td>0</td>\n",
              "      <td>0</td>\n",
              "      <td>0</td>\n",
              "      <td>0</td>\n",
              "      <td>1</td>\n",
              "      <td>0</td>\n",
              "      <td>1</td>\n",
              "      <td>0</td>\n",
              "      <td>0</td>\n",
              "      <td>1</td>\n",
              "      <td>1</td>\n",
              "      <td>0</td>\n",
              "      <td>1</td>\n",
              "      <td>1</td>\n",
              "      <td>0</td>\n",
              "      <td>1</td>\n",
              "      <td>...</td>\n",
              "      <td>0</td>\n",
              "      <td>1</td>\n",
              "      <td>0</td>\n",
              "      <td>0</td>\n",
              "      <td>1</td>\n",
              "      <td>0</td>\n",
              "      <td>0</td>\n",
              "      <td>1</td>\n",
              "      <td>1</td>\n",
              "      <td>1</td>\n",
              "      <td>0</td>\n",
              "      <td>0</td>\n",
              "      <td>1</td>\n",
              "      <td>1</td>\n",
              "      <td>0</td>\n",
              "      <td>1</td>\n",
              "      <td>0</td>\n",
              "      <td>0</td>\n",
              "      <td>1</td>\n",
              "      <td>1</td>\n",
              "      <td>1</td>\n",
              "      <td>1</td>\n",
              "      <td>0</td>\n",
              "      <td>1</td>\n",
              "      <td>0</td>\n",
              "      <td>1</td>\n",
              "      <td>1</td>\n",
              "      <td>0</td>\n",
              "      <td>0</td>\n",
              "      <td>0</td>\n",
              "      <td>1</td>\n",
              "      <td>0</td>\n",
              "      <td>0</td>\n",
              "      <td>0</td>\n",
              "      <td>1</td>\n",
              "      <td>0</td>\n",
              "      <td>1</td>\n",
              "      <td>1.0</td>\n",
              "      <td>1</td>\n",
              "      <td>1</td>\n",
              "    </tr>\n",
              "    <tr>\n",
              "      <th>2</th>\n",
              "      <td>101eb6af1</td>\n",
              "      <td>1d8f7bab9</td>\n",
              "      <td>0</td>\n",
              "      <td>1</td>\n",
              "      <td>1</td>\n",
              "      <td>1</td>\n",
              "      <td>1</td>\n",
              "      <td>0</td>\n",
              "      <td>0</td>\n",
              "      <td>0</td>\n",
              "      <td>0</td>\n",
              "      <td>1</td>\n",
              "      <td>1</td>\n",
              "      <td>0</td>\n",
              "      <td>0</td>\n",
              "      <td>1</td>\n",
              "      <td>1</td>\n",
              "      <td>0</td>\n",
              "      <td>1</td>\n",
              "      <td>0</td>\n",
              "      <td>0</td>\n",
              "      <td>0</td>\n",
              "      <td>0</td>\n",
              "      <td>0</td>\n",
              "      <td>0</td>\n",
              "      <td>0</td>\n",
              "      <td>0</td>\n",
              "      <td>1</td>\n",
              "      <td>1</td>\n",
              "      <td>0</td>\n",
              "      <td>1</td>\n",
              "      <td>0</td>\n",
              "      <td>1</td>\n",
              "      <td>1</td>\n",
              "      <td>0</td>\n",
              "      <td>0</td>\n",
              "      <td>1</td>\n",
              "      <td>1</td>\n",
              "      <td>1</td>\n",
              "      <td>1</td>\n",
              "      <td>...</td>\n",
              "      <td>0</td>\n",
              "      <td>0</td>\n",
              "      <td>0</td>\n",
              "      <td>0</td>\n",
              "      <td>1</td>\n",
              "      <td>1</td>\n",
              "      <td>0</td>\n",
              "      <td>1</td>\n",
              "      <td>0</td>\n",
              "      <td>0</td>\n",
              "      <td>0</td>\n",
              "      <td>0</td>\n",
              "      <td>1</td>\n",
              "      <td>1</td>\n",
              "      <td>0</td>\n",
              "      <td>1</td>\n",
              "      <td>1</td>\n",
              "      <td>0</td>\n",
              "      <td>1</td>\n",
              "      <td>1</td>\n",
              "      <td>1</td>\n",
              "      <td>1</td>\n",
              "      <td>1</td>\n",
              "      <td>0</td>\n",
              "      <td>0</td>\n",
              "      <td>1</td>\n",
              "      <td>1</td>\n",
              "      <td>0</td>\n",
              "      <td>0</td>\n",
              "      <td>1</td>\n",
              "      <td>1</td>\n",
              "      <td>0</td>\n",
              "      <td>1</td>\n",
              "      <td>0</td>\n",
              "      <td>0</td>\n",
              "      <td>0</td>\n",
              "      <td>1</td>\n",
              "      <td>1.0</td>\n",
              "      <td>1</td>\n",
              "      <td>1</td>\n",
              "    </tr>\n",
              "  </tbody>\n",
              "</table>\n",
              "<p>3 rows × 15160 columns</p>\n",
              "</div>"
            ],
            "text/plain": [
              "  patient_id biomarker_id  target_label  ...  BM15154  BM15155  BM15156\n",
              "0  1002df1d3     89c43bb4             0  ...      1.0        1        1\n",
              "1   1010441f     3ae31327             0  ...      1.0        1        1\n",
              "2  101eb6af1    1d8f7bab9             0  ...      1.0        1        1\n",
              "\n",
              "[3 rows x 15160 columns]"
            ]
          },
          "metadata": {
            "tags": []
          },
          "execution_count": 14
        }
      ]
    },
    {
      "cell_type": "markdown",
      "metadata": {
        "id": "BDBijAIJaADQ"
      },
      "source": [
        "Chech the new shape of the data frame and if there is any null value"
      ]
    },
    {
      "cell_type": "code",
      "metadata": {
        "colab": {
          "base_uri": "https://localhost:8080/"
        },
        "id": "cdlA5v2LWNuZ",
        "outputId": "a35850be-eb1b-4160-ffa6-636c05b74281"
      },
      "source": [
        "print(tr.shape)\n",
        "print(biomarkers_df.shape)\n",
        "print(biomarker_patient_target.shape)\n",
        "\n",
        "print('biomarkers_targets')\n",
        "print(biomarker_patient_target.isnull().any())\n",
        "print(biomarker_patient_target.isnull().sum())\n",
        "print(\"\\n\")\n",
        "\n",
        "print('target id')\n",
        "print(biomarker_patient_target['target_label'].isnull().any())\n",
        "print(biomarker_patient_target['target_label'].isnull().sum())\n",
        "print(\"\\n\")\n",
        "biomarker_patient_target['BM15154'] = biomarker_patient_target['BM15154'].astype('int64')\n",
        "#biomarker_patient_target['BM15154']\n",
        "biomarker_patient_target.dtypes"
      ],
      "execution_count": 24,
      "outputs": [
        {
          "output_type": "stream",
          "text": [
            "(1734, 3)\n",
            "(1960, 15158)\n",
            "(1038, 15160)\n",
            "biomarkers_targets\n",
            "patient_id      False\n",
            "biomarker_id    False\n",
            "target_label    False\n",
            "BM00000         False\n",
            "BM00001         False\n",
            "                ...  \n",
            "BM15152         False\n",
            "BM15153         False\n",
            "BM15154         False\n",
            "BM15155         False\n",
            "BM15156         False\n",
            "Length: 15160, dtype: bool\n",
            "patient_id      0\n",
            "biomarker_id    0\n",
            "target_label    0\n",
            "BM00000         0\n",
            "BM00001         0\n",
            "               ..\n",
            "BM15152         0\n",
            "BM15153         0\n",
            "BM15154         0\n",
            "BM15155         0\n",
            "BM15156         0\n",
            "Length: 15160, dtype: int64\n",
            "\n",
            "\n",
            "target id\n",
            "False\n",
            "0\n",
            "\n",
            "\n"
          ],
          "name": "stdout"
        },
        {
          "output_type": "execute_result",
          "data": {
            "text/plain": [
              "patient_id      object\n",
              "biomarker_id    object\n",
              "target_label     int64\n",
              "BM00000          int64\n",
              "BM00001          int64\n",
              "                 ...  \n",
              "BM15152          int64\n",
              "BM15153          int64\n",
              "BM15154          int64\n",
              "BM15155          int64\n",
              "BM15156          int64\n",
              "Length: 15160, dtype: object"
            ]
          },
          "metadata": {
            "tags": []
          },
          "execution_count": 24
        }
      ]
    },
    {
      "cell_type": "code",
      "metadata": {
        "colab": {
          "base_uri": "https://localhost:8080/"
        },
        "id": "jDg9IjzxfgHk",
        "outputId": "2aa1cf10-151e-4fc1-eab0-577941494608"
      },
      "source": [
        "#biomarker_patient_target.head(3)\n",
        "# Check for missing data in each of the supplied data sets\n",
        "print('biomarker_patient_target')\n",
        "biomarker_patient_target.dropna(inplace=True)\n",
        "print(biomarker_patient_target.isnull().sum())\n",
        "print(\"\\n\")\n"
      ],
      "execution_count": 25,
      "outputs": [
        {
          "output_type": "stream",
          "text": [
            "biomarker_patient_target\n",
            "patient_id      0\n",
            "biomarker_id    0\n",
            "target_label    0\n",
            "BM00000         0\n",
            "BM00001         0\n",
            "               ..\n",
            "BM15152         0\n",
            "BM15153         0\n",
            "BM15154         0\n",
            "BM15155         0\n",
            "BM15156         0\n",
            "Length: 15160, dtype: int64\n",
            "\n",
            "\n"
          ],
          "name": "stdout"
        }
      ]
    },
    {
      "cell_type": "markdown",
      "metadata": {
        "id": "MtnUCuu4brCE"
      },
      "source": [
        "# Feature Engineering\n",
        "\n",
        "Based on the the analysis above, we will extract the features of the biomarkers to train a classifier to predict target labels."
      ]
    },
    {
      "cell_type": "code",
      "metadata": {
        "colab": {
          "base_uri": "https://localhost:8080/"
        },
        "id": "97OZLg8wSgR0",
        "outputId": "7320f152-1cd3-4dd4-fea6-595203e121a8"
      },
      "source": [
        "# biomarker_patient_target = biomarker_patient_target.reset_index()\n",
        "X = biomarker_patient_target.drop(['biomarker_id' ,'target_label', 'patient_id'], axis= 1)\n",
        "y = biomarker_patient_target['target_label']\n",
        "y.head\n",
        "X.head"
      ],
      "execution_count": 26,
      "outputs": [
        {
          "output_type": "execute_result",
          "data": {
            "text/plain": [
              "<bound method NDFrame.head of       BM00000  BM00001  BM00002  BM00003  ...  BM15153  BM15154  BM15155  BM15156\n",
              "0           1        1        1        1  ...        1        1        1        1\n",
              "1           0        1        1        0  ...        1        1        1        1\n",
              "3           1        1        1        1  ...        1        1        1        1\n",
              "4           1        1        1        1  ...        1        1        1        1\n",
              "7           1        1        0        0  ...        1        1        1        1\n",
              "...       ...      ...      ...      ...  ...      ...      ...      ...      ...\n",
              "1721        0        1        0        0  ...        1        1        1        1\n",
              "1724        1        1        1        0  ...        1        1        1        1\n",
              "1726        1        1        1        0  ...        1        1        1        1\n",
              "1727        1        1        1        0  ...        1        1        1        1\n",
              "1729        0        1        0        0  ...        1        1        1        1\n",
              "\n",
              "[1038 rows x 15157 columns]>"
            ]
          },
          "metadata": {
            "tags": []
          },
          "execution_count": 26
        }
      ]
    },
    {
      "cell_type": "code",
      "metadata": {
        "id": "HMFsWauPTLJr"
      },
      "source": [
        ""
      ],
      "execution_count": 27,
      "outputs": []
    },
    {
      "cell_type": "markdown",
      "metadata": {
        "id": "qUpP1i9rwnB6"
      },
      "source": [
        "# Modeling\n"
      ]
    },
    {
      "cell_type": "markdown",
      "metadata": {
        "id": "an1OIMjcy9X2"
      },
      "source": [
        "**Import ML Models**"
      ]
    },
    {
      "cell_type": "code",
      "metadata": {
        "id": "AGiSBZkCybwV"
      },
      "source": [
        "from sklearn.metrics import roc_curve, auc, accuracy_score, confusion_matrix\n",
        "# from sklearn.model_selection import GridSearchCV, KFold, cross_val_score\n",
        "from tqdm import tqdm\n",
        "from sklearn import datasets, linear_model\n",
        "from sklearn.model_selection import  train_test_split\n",
        "\n",
        "from sklearn.neighbors import KNeighborsClassifier\n",
        "from sklearn.svm import SVC\n",
        "from sklearn.linear_model import LogisticRegression\n",
        "from sklearn.tree import DecisionTreeClassifier\n",
        "from sklearn.naive_bayes import GaussianNB\n",
        "from sklearn.ensemble import RandomForestClassifier\n",
        "from sklearn.ensemble import GradientBoostingClassifier\n"
      ],
      "execution_count": 54,
      "outputs": []
    },
    {
      "cell_type": "markdown",
      "metadata": {
        "id": "_zFeIORM3xsM"
      },
      "source": [
        "**List of ML models to be trained and tested**"
      ]
    },
    {
      "cell_type": "code",
      "metadata": {
        "id": "nsO1C73nyBJM"
      },
      "source": [
        "models = []\n",
        "models.append(('KNN', KNeighborsClassifier()))\n",
        "models.append(('SVC', SVC()))\n",
        "models.append(('LR', LogisticRegression()))\n",
        "models.append(('DT', DecisionTreeClassifier()))\n",
        "models.append(('GNB', GaussianNB()))\n",
        "models.append(('RF', RandomForestClassifier()))\n",
        "models.append(('GB', GradientBoostingClassifier()))"
      ],
      "execution_count": 55,
      "outputs": []
    },
    {
      "cell_type": "markdown",
      "metadata": {
        "id": "EZ_NMyNhFFbC"
      },
      "source": [
        "***Model training - testing Function ***"
      ]
    },
    {
      "cell_type": "code",
      "metadata": {
        "id": "gYzsKAWE0Cyw"
      },
      "source": [
        "def modeling(X, y, ml_models):\n",
        "  X_train, X_test, y_train, y_test = train_test_split(X,y, test_size = 0.2, random_state=42)\n",
        "  names = []\n",
        "  scores = []\n",
        "  for name, model in tqdm(ml_models):\n",
        "      model.fit(X_train, y_train)\n",
        "      y_pred = model.predict(X_test)\n",
        "      scores.append(accuracy_score(y_test, y_pred))\n",
        "      names.append(name)\n",
        "  tr_info = pd.DataFrame({'Model': names, 'Score': scores})\n",
        "  return tr_info\n"
      ],
      "execution_count": 66,
      "outputs": []
    },
    {
      "cell_type": "markdown",
      "metadata": {
        "id": "XIoKKFgjFgTs"
      },
      "source": [
        "**Visualization of Model Scores**"
      ]
    },
    {
      "cell_type": "code",
      "metadata": {
        "id": "YvcF-2lpEjLh"
      },
      "source": [
        "def visualize_scores(train_info):\n",
        "  axis = sns.barplot(x = 'Model', y = 'Score', data = train_info, palette='Blues_d')\n",
        "  axis.set(xlabel='Classifier', ylabel='Accuracy')\n",
        "  for p in axis.patches:\n",
        "      height = p.get_height()\n",
        "      axis.text(p.get_x() + p.get_width()/2, height + 0.005, '{:1.4f}'.format(height), ha=\"center\") \n",
        "    \n",
        "  plt.show()"
      ],
      "execution_count": 69,
      "outputs": []
    },
    {
      "cell_type": "markdown",
      "metadata": {
        "id": "DLnABTtbw0y5"
      },
      "source": [
        "**Let's train and test our model using feature without (SMOTE)**"
      ]
    },
    {
      "cell_type": "code",
      "metadata": {
        "colab": {
          "base_uri": "https://localhost:8080/"
        },
        "id": "097Gdn624hwO",
        "outputId": "f5b9b3eb-5010-4856-9750-286242dca473"
      },
      "source": [
        "train_info = modeling(X, y, models)\n",
        "print(train_info)"
      ],
      "execution_count": 67,
      "outputs": [
        {
          "output_type": "stream",
          "text": [
            " 29%|██▊       | 2/7 [00:29<00:58, 11.75s/it]/usr/local/lib/python3.7/dist-packages/sklearn/linear_model/_logistic.py:940: ConvergenceWarning: lbfgs failed to converge (status=1):\n",
            "STOP: TOTAL NO. of ITERATIONS REACHED LIMIT.\n",
            "\n",
            "Increase the number of iterations (max_iter) or scale the data as shown in:\n",
            "    https://scikit-learn.org/stable/modules/preprocessing.html\n",
            "Please also refer to the documentation for alternative solver options:\n",
            "    https://scikit-learn.org/stable/modules/linear_model.html#logistic-regression\n",
            "  extra_warning_msg=_LOGISTIC_SOLVER_CONVERGENCE_MSG)\n",
            "100%|██████████| 7/7 [01:12<00:00, 10.43s/it]"
          ],
          "name": "stderr"
        },
        {
          "output_type": "stream",
          "text": [
            "  Model     Score\n",
            "0   KNN  0.701923\n",
            "1   SVC  0.774038\n",
            "2    LR  0.774038\n",
            "3    DT  0.807692\n",
            "4   GNB  0.514423\n",
            "5    RF  0.774038\n",
            "6    GB  0.894231\n"
          ],
          "name": "stdout"
        },
        {
          "output_type": "stream",
          "text": [
            "\n"
          ],
          "name": "stderr"
        }
      ]
    },
    {
      "cell_type": "markdown",
      "metadata": {
        "id": "14edkPIoKRM8"
      },
      "source": [
        "We can notice the perfromance of the machine learning model is quiet poor due to dataset inbalance, while the best score is for 'GB' Gradient Boosting Classifier. This is expected to improve when we apply oversampling techinique (SMOTE)"
      ]
    },
    {
      "cell_type": "code",
      "metadata": {
        "colab": {
          "base_uri": "https://localhost:8080/",
          "height": 278
        },
        "id": "SI6zfUGAGUSE",
        "outputId": "99b15ae8-bab1-4f4d-eb02-86b1172b5e75"
      },
      "source": [
        "# Visualize model model scores\n",
        "visualize_scores(train_info)"
      ],
      "execution_count": 70,
      "outputs": [
        {
          "output_type": "display_data",
          "data": {
            "image/png": "[encoded data removed]",
            "text/plain": [
              "<Figure size 432x288 with 1 Axes>"
            ]
          },
          "metadata": {
            "tags": [],
            "needs_background": "light"
          }
        }
      ]
    },
    {
      "cell_type": "markdown",
      "metadata": {
        "id": "dldpcOj86c_6"
      },
      "source": [
        "Now, we apply (SMOTE) oversampling to balance out the classes\n"
      ]
    },
    {
      "cell_type": "code",
      "metadata": {
        "colab": {
          "base_uri": "https://localhost:8080/"
        },
        "id": "43fCSFY062w1",
        "outputId": "11f53961-c580-402f-df2b-980a48572921"
      },
      "source": [
        "# import library\n",
        "from imblearn.over_sampling import SMOTE\n",
        "from collections import Counter\n",
        "\n",
        "smote = SMOTE()\n",
        "\n",
        "# fit predictor and target variable\n",
        "x_smote, y_smote = smote.fit_resample(X, y)\n",
        "\n",
        "print('Original dataset shape', Counter(y))\n",
        "print('Resample dataset shape', Counter(y_smote))"
      ],
      "execution_count": 43,
      "outputs": [
        {
          "output_type": "stream",
          "text": [
            "/usr/local/lib/python3.7/dist-packages/sklearn/utils/deprecation.py:87: FutureWarning: Function safe_indexing is deprecated; safe_indexing is deprecated in version 0.22 and will be removed in version 0.24.\n",
            "  warnings.warn(msg, category=FutureWarning)\n"
          ],
          "name": "stderr"
        },
        {
          "output_type": "stream",
          "text": [
            "Original dataset shape Counter({0: 812, 1: 226})\n",
            "Resample dataset shape Counter({0: 812, 1: 812})\n"
          ],
          "name": "stdout"
        }
      ]
    },
    {
      "cell_type": "markdown",
      "metadata": {
        "id": "HRrM9AJT-lP6"
      },
      "source": [
        "**Visualize the distribution of the enhanced target class**"
      ]
    },
    {
      "cell_type": "code",
      "metadata": {
        "colab": {
          "base_uri": "https://localhost:8080/",
          "height": 320
        },
        "id": "vcGwTVNg-7Lp",
        "outputId": "8fc71647-fc27-4861-b51d-bec4638bf5b5"
      },
      "source": [
        "g = sns.countplot(y_smote)\n",
        "g.set_xticklabels(['No-Disease','Disease'])\n",
        "plt.show()"
      ],
      "execution_count": 51,
      "outputs": [
        {
          "output_type": "stream",
          "text": [
            "/usr/local/lib/python3.7/dist-packages/seaborn/_decorators.py:43: FutureWarning: Pass the following variable as a keyword arg: x. From version 0.12, the only valid positional argument will be `data`, and passing other arguments without an explicit keyword will result in an error or misinterpretation.\n",
            "  FutureWarning\n"
          ],
          "name": "stderr"
        },
        {
          "output_type": "display_data",
          "data": {
            "image/png": "[encoded data removed]",
            "text/plain": [
              "<Figure size 432x288 with 1 Axes>"
            ]
          },
          "metadata": {
            "tags": [],
            "needs_background": "light"
          }
        }
      ]
    },
    {
      "cell_type": "markdown",
      "metadata": {
        "id": "4uWsxDlfMDTn"
      },
      "source": [
        "**Retrain our models after using (SMOTE)**"
      ]
    },
    {
      "cell_type": "code",
      "metadata": {
        "colab": {
          "base_uri": "https://localhost:8080/"
        },
        "id": "h2-KV5Bp8pcM",
        "outputId": "3ff629af-1854-4849-9a90-7a20d559397e"
      },
      "source": [
        "train_info = modeling(x_smote, y_smote, models)\n",
        "print(train_info)"
      ],
      "execution_count": 72,
      "outputs": [
        {
          "output_type": "stream",
          "text": [
            "\n",
            "  0%|          | 0/7 [00:00<?, ?it/s]\u001b[A\n",
            " 14%|█▍        | 1/7 [00:17<01:43, 17.32s/it]\u001b[A\n",
            " 29%|██▊       | 2/7 [01:04<02:11, 26.27s/it]\u001b[A/usr/local/lib/python3.7/dist-packages/sklearn/linear_model/_logistic.py:940: ConvergenceWarning: lbfgs failed to converge (status=1):\n",
            "STOP: TOTAL NO. of ITERATIONS REACHED LIMIT.\n",
            "\n",
            "Increase the number of iterations (max_iter) or scale the data as shown in:\n",
            "    https://scikit-learn.org/stable/modules/preprocessing.html\n",
            "Please also refer to the documentation for alternative solver options:\n",
            "    https://scikit-learn.org/stable/modules/linear_model.html#logistic-regression\n",
            "  extra_warning_msg=_LOGISTIC_SOLVER_CONVERGENCE_MSG)\n",
            "\n",
            " 43%|████▎     | 3/7 [01:10<01:20, 20.18s/it]\u001b[A\n",
            " 57%|█████▋    | 4/7 [01:14<00:45, 15.30s/it]\u001b[A\n",
            " 71%|███████▏  | 5/7 [01:14<00:21, 10.80s/it]\u001b[A\n",
            " 86%|████████▌ | 6/7 [01:17<00:08,  8.56s/it]\u001b[A\n",
            "100%|██████████| 7/7 [04:26<00:00, 38.04s/it]"
          ],
          "name": "stderr"
        },
        {
          "output_type": "stream",
          "text": [
            "  Model     Score\n",
            "0   KNN  0.455385\n",
            "1   SVC  0.935385\n",
            "2    LR  0.978462\n",
            "3    DT  0.876923\n",
            "4   GNB  0.643077\n",
            "5    RF  0.880000\n",
            "6    GB  0.938462\n"
          ],
          "name": "stdout"
        },
        {
          "output_type": "stream",
          "text": [
            "\n"
          ],
          "name": "stderr"
        }
      ]
    },
    {
      "cell_type": "markdown",
      "metadata": {
        "id": "qvp9jlluA57O"
      },
      "source": [
        "**` Visualize Model Scores`**\n",
        "\n",
        "As we can see, the perfromance of the models has greatly improved for most models, where the highest score is for \"LR\" Logistic Regression Classifier."
      ]
    },
    {
      "cell_type": "code",
      "metadata": {
        "colab": {
          "base_uri": "https://localhost:8080/",
          "height": 278
        },
        "id": "asR-YDdpLgcJ",
        "outputId": "a8a40fc3-798d-4570-8472-ef6c10e55f7e"
      },
      "source": [
        "# Visualize model model scores\n",
        "visualize_scores(train_info)"
      ],
      "execution_count": 74,
      "outputs": [
        {
          "output_type": "display_data",
          "data": {
            "image/png": "[encoded data removed]",
            "text/plain": [
              "<Figure size 432x288 with 1 Axes>"
            ]
          },
          "metadata": {
            "tags": [],
            "needs_background": "light"
          }
        }
      ]
    },
    {
      "cell_type": "markdown",
      "metadata": {
        "id": "7F1z8XwfZznm"
      },
      "source": [
        "# Model Evaluation\n",
        "**Let's take closer look at LogisticRegression model**"
      ]
    },
    {
      "cell_type": "code",
      "metadata": {
        "colab": {
          "base_uri": "https://localhost:8080/"
        },
        "id": "A2hqv1a6Tgln",
        "outputId": "49d9cd2d-22ee-44e0-d0e0-9ca343c628eb"
      },
      "source": [
        "from sklearn.metrics import classification_report\n",
        "from sklearn.metrics import accuracy_score\n",
        "\n",
        "LR_model = LogisticRegression()\n",
        "X_train, X_test, y_train, y_test = train_test_split(x_smote,y_smote, test_size = 0.2, random_state=42)\n",
        "LR_model.fit(X_train,y_train)\n",
        "\n",
        "prediction = LR_model.predict(X_test)\n",
        "\n",
        "accuracy = accuracy_score(y_test, prediction)\n",
        "\n",
        "print (\"Accuracy of our Logistic Regression model is: {0:0.4f}\".format(accuracy))\n",
        "print(\"\\n\")"
      ],
      "execution_count": 81,
      "outputs": [
        {
          "output_type": "stream",
          "text": [
            "Accuracy of our Logistic Regression model is: 0.9785\n",
            "\n",
            "\n"
          ],
          "name": "stdout"
        },
        {
          "output_type": "stream",
          "text": [
            "/usr/local/lib/python3.7/dist-packages/sklearn/linear_model/_logistic.py:940: ConvergenceWarning: lbfgs failed to converge (status=1):\n",
            "STOP: TOTAL NO. of ITERATIONS REACHED LIMIT.\n",
            "\n",
            "Increase the number of iterations (max_iter) or scale the data as shown in:\n",
            "    https://scikit-learn.org/stable/modules/preprocessing.html\n",
            "Please also refer to the documentation for alternative solver options:\n",
            "    https://scikit-learn.org/stable/modules/linear_model.html#logistic-regression\n",
            "  extra_warning_msg=_LOGISTIC_SOLVER_CONVERGENCE_MSG)\n"
          ],
          "name": "stderr"
        }
      ]
    },
    {
      "cell_type": "markdown",
      "metadata": {
        "id": "Z3LEqEeiZ41S"
      },
      "source": [
        "**Confusion Matrix**"
      ]
    },
    {
      "cell_type": "code",
      "metadata": {
        "colab": {
          "base_uri": "https://localhost:8080/"
        },
        "id": "VMzy2H7-VH4c",
        "outputId": "aeb2ea81-1701-4897-dda1-a81988440c04"
      },
      "source": [
        "print (\"Confusion Matrix\")\n",
        "\n",
        "# labels for set 1=True to upper left and 0 = False to lower right\n",
        "print (\"{0}\".format(confusion_matrix(y_test, prediction, labels=[1, 0])))\n",
        "cmx = confusion_matrix(y_test, prediction)"
      ],
      "execution_count": 85,
      "outputs": [
        {
          "output_type": "stream",
          "text": [
            "Confusion Matrix\n",
            "[[143   5]\n",
            " [  2 175]]\n"
          ],
          "name": "stdout"
        }
      ]
    },
    {
      "cell_type": "markdown",
      "metadata": {
        "id": "N7N1RwlcaAc2"
      },
      "source": [
        "**Classification Report**"
      ]
    },
    {
      "cell_type": "code",
      "metadata": {
        "colab": {
          "base_uri": "https://localhost:8080/"
        },
        "id": "JnkxiITGXIFR",
        "outputId": "fc0df9d3-1fc8-4773-ac1d-b4485ac461c8"
      },
      "source": [
        "print (\"Classification Report\")\n",
        "\n",
        "# labels for set 1=True to upper left and 0 = False to lower right\n",
        "print (\"{0}\".format(classification_report(y_test, prediction, labels=[1, 0])))"
      ],
      "execution_count": 88,
      "outputs": [
        {
          "output_type": "stream",
          "text": [
            "Classification Report\n",
            "              precision    recall  f1-score   support\n",
            "\n",
            "           1       0.99      0.97      0.98       148\n",
            "           0       0.97      0.99      0.98       177\n",
            "\n",
            "    accuracy                           0.98       325\n",
            "   macro avg       0.98      0.98      0.98       325\n",
            "weighted avg       0.98      0.98      0.98       325\n",
            "\n"
          ],
          "name": "stdout"
        }
      ]
    }
  ]
}